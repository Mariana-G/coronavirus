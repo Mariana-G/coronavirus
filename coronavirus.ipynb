{
 "cells": [
  {
   "cell_type": "code",
   "execution_count": 1,
   "metadata": {},
   "outputs": [],
   "source": [
    "import pandas as pd\n",
    "import numpy as np\n",
    "import matplotlib.pyplot as plt\n",
    "import seaborn as sns\n",
    "\n",
    "import warnings\n",
    "warnings.filterwarnings(\"ignore\")"
   ]
  },
  {
   "cell_type": "code",
   "execution_count": 2,
   "metadata": {},
   "outputs": [],
   "source": [
    "data = pd.read_csv('data.csv',index_col=0)"
   ]
  },
  {
   "cell_type": "code",
   "execution_count": 3,
   "metadata": {},
   "outputs": [
    {
     "data": {
      "text/html": [
       "<div>\n",
       "<style scoped>\n",
       "    .dataframe tbody tr th:only-of-type {\n",
       "        vertical-align: middle;\n",
       "    }\n",
       "\n",
       "    .dataframe tbody tr th {\n",
       "        vertical-align: top;\n",
       "    }\n",
       "\n",
       "    .dataframe thead th {\n",
       "        text-align: right;\n",
       "    }\n",
       "</style>\n",
       "<table border=\"1\" class=\"dataframe\">\n",
       "  <thead>\n",
       "    <tr style=\"text-align: right;\">\n",
       "      <th></th>\n",
       "      <th>infected</th>\n",
       "    </tr>\n",
       "    <tr>\n",
       "      <th>date</th>\n",
       "      <th></th>\n",
       "    </tr>\n",
       "  </thead>\n",
       "  <tbody>\n",
       "    <tr>\n",
       "      <th>2020-01-20</th>\n",
       "      <td>291</td>\n",
       "    </tr>\n",
       "    <tr>\n",
       "      <th>2020-01-21</th>\n",
       "      <td>440</td>\n",
       "    </tr>\n",
       "    <tr>\n",
       "      <th>2020-01-22</th>\n",
       "      <td>571</td>\n",
       "    </tr>\n",
       "    <tr>\n",
       "      <th>2020-01-23</th>\n",
       "      <td>830</td>\n",
       "    </tr>\n",
       "    <tr>\n",
       "      <th>2020-01-24</th>\n",
       "      <td>1287</td>\n",
       "    </tr>\n",
       "  </tbody>\n",
       "</table>\n",
       "</div>"
      ],
      "text/plain": [
       "            infected\n",
       "date                \n",
       "2020-01-20       291\n",
       "2020-01-21       440\n",
       "2020-01-22       571\n",
       "2020-01-23       830\n",
       "2020-01-24      1287"
      ]
     },
     "execution_count": 3,
     "metadata": {},
     "output_type": "execute_result"
    }
   ],
   "source": [
    "data.head()"
   ]
  },
  {
   "cell_type": "code",
   "execution_count": 4,
   "metadata": {},
   "outputs": [
    {
     "data": {
      "text/plain": [
       "<matplotlib.axes._subplots.AxesSubplot at 0x7f4d9398f828>"
      ]
     },
     "execution_count": 4,
     "metadata": {},
     "output_type": "execute_result"
    },
    {
     "data": {
      "image/png": "[encoded data removed]",
      "text/plain": [
       "<Figure size 432x288 with 1 Axes>"
      ]
     },
     "metadata": {
      "needs_background": "light"
     },
     "output_type": "display_data"
    }
   ],
   "source": [
    "data.plot()"
   ]
  },
  {
   "cell_type": "code",
   "execution_count": 5,
   "metadata": {},
   "outputs": [],
   "source": [
    "from pyramid.arima import auto_arima"
   ]
  },
  {
   "cell_type": "code",
   "execution_count": 6,
   "metadata": {},
   "outputs": [
    {
     "name": "stdout",
     "output_type": "stream",
     "text": [
      "Fit ARIMA: order=(2, 2, 2); AIC=nan, BIC=nan, Fit time=nan seconds\n",
      "Fit ARIMA: order=(0, 2, 0); AIC=133.934, BIC=134.328, Fit time=0.016 seconds\n",
      "Fit ARIMA: order=(1, 2, 0); AIC=132.938, BIC=133.530, Fit time=0.196 seconds\n",
      "Fit ARIMA: order=(0, 2, 1); AIC=130.806, BIC=131.398, Fit time=0.155 seconds\n",
      "Fit ARIMA: order=(1, 2, 1); AIC=nan, BIC=nan, Fit time=nan seconds\n",
      "Fit ARIMA: order=(0, 2, 2); AIC=132.640, BIC=133.429, Fit time=0.394 seconds\n",
      "Fit ARIMA: order=(1, 2, 2); AIC=nan, BIC=nan, Fit time=nan seconds\n",
      "Total fit time: 0.803 seconds\n"
     ]
    }
   ],
   "source": [
    "stepwise_model = auto_arima(data, m=12,\n",
    "                           start_P=0, seasonal=False,\n",
    "                           trace=True,\n",
    "                           error_action='ignore',  \n",
    "                           suppress_warnings=True, \n",
    "                           stepwise=True) "
   ]
  },
  {
   "cell_type": "code",
   "execution_count": 7,
   "metadata": {},
   "outputs": [
    {
     "data": {
      "text/plain": [
       "130.80627723283698"
      ]
     },
     "execution_count": 7,
     "metadata": {},
     "output_type": "execute_result"
    }
   ],
   "source": [
    "stepwise_model.aic()"
   ]
  },
  {
   "cell_type": "code",
   "execution_count": 8,
   "metadata": {},
   "outputs": [
    {
     "data": {
      "text/html": [
       "<div>\n",
       "<style scoped>\n",
       "    .dataframe tbody tr th:only-of-type {\n",
       "        vertical-align: middle;\n",
       "    }\n",
       "\n",
       "    .dataframe tbody tr th {\n",
       "        vertical-align: top;\n",
       "    }\n",
       "\n",
       "    .dataframe thead th {\n",
       "        text-align: right;\n",
       "    }\n",
       "</style>\n",
       "<table border=\"1\" class=\"dataframe\">\n",
       "  <thead>\n",
       "    <tr style=\"text-align: right;\">\n",
       "      <th></th>\n",
       "      <th>infected</th>\n",
       "    </tr>\n",
       "    <tr>\n",
       "      <th>date</th>\n",
       "      <th></th>\n",
       "    </tr>\n",
       "  </thead>\n",
       "  <tbody>\n",
       "    <tr>\n",
       "      <th>2020-01-20</th>\n",
       "      <td>291</td>\n",
       "    </tr>\n",
       "    <tr>\n",
       "      <th>2020-01-21</th>\n",
       "      <td>440</td>\n",
       "    </tr>\n",
       "    <tr>\n",
       "      <th>2020-01-22</th>\n",
       "      <td>571</td>\n",
       "    </tr>\n",
       "    <tr>\n",
       "      <th>2020-01-23</th>\n",
       "      <td>830</td>\n",
       "    </tr>\n",
       "    <tr>\n",
       "      <th>2020-01-24</th>\n",
       "      <td>1287</td>\n",
       "    </tr>\n",
       "    <tr>\n",
       "      <th>2020-01-25</th>\n",
       "      <td>1975</td>\n",
       "    </tr>\n",
       "    <tr>\n",
       "      <th>2020-01-26</th>\n",
       "      <td>2744</td>\n",
       "    </tr>\n",
       "    <tr>\n",
       "      <th>2020-01-27</th>\n",
       "      <td>4515</td>\n",
       "    </tr>\n",
       "    <tr>\n",
       "      <th>2020-01-28</th>\n",
       "      <td>5974</td>\n",
       "    </tr>\n",
       "    <tr>\n",
       "      <th>2020-01-29</th>\n",
       "      <td>7711</td>\n",
       "    </tr>\n",
       "    <tr>\n",
       "      <th>2020-01-30</th>\n",
       "      <td>9692</td>\n",
       "    </tr>\n",
       "  </tbody>\n",
       "</table>\n",
       "</div>"
      ],
      "text/plain": [
       "            infected\n",
       "date                \n",
       "2020-01-20       291\n",
       "2020-01-21       440\n",
       "2020-01-22       571\n",
       "2020-01-23       830\n",
       "2020-01-24      1287\n",
       "2020-01-25      1975\n",
       "2020-01-26      2744\n",
       "2020-01-27      4515\n",
       "2020-01-28      5974\n",
       "2020-01-29      7711\n",
       "2020-01-30      9692"
      ]
     },
     "execution_count": 8,
     "metadata": {},
     "output_type": "execute_result"
    }
   ],
   "source": [
    "data"
   ]
  },
  {
   "cell_type": "code",
   "execution_count": 9,
   "metadata": {},
   "outputs": [
    {
     "data": {
      "text/plain": [
       "ARIMA(callback=None, disp=0, maxiter=50, method=None, order=(0, 2, 1),\n",
       "      out_of_sample_size=0, scoring='mse', scoring_args={}, seasonal_order=None,\n",
       "      solver='lbfgs', start_params=None, suppress_warnings=True,\n",
       "      transparams=True, trend='c')"
      ]
     },
     "execution_count": 9,
     "metadata": {},
     "output_type": "execute_result"
    }
   ],
   "source": [
    "stepwise_model.fit(data)"
   ]
  },
  {
   "cell_type": "code",
   "execution_count": 10,
   "metadata": {},
   "outputs": [],
   "source": [
    "predicted_days = 60"
   ]
  },
  {
   "cell_type": "code",
   "execution_count": 11,
   "metadata": {},
   "outputs": [],
   "source": [
    "future_forecast = stepwise_model.predict(n_periods=predicted_days)"
   ]
  },
  {
   "cell_type": "code",
   "execution_count": 12,
   "metadata": {},
   "outputs": [],
   "source": [
    "import datetime"
   ]
  },
  {
   "cell_type": "code",
   "execution_count": 13,
   "metadata": {},
   "outputs": [
    {
     "name": "stdout",
     "output_type": "stream",
     "text": [
      "2020-02-01 00:00:00 - 11889\n",
      "2020-02-02 00:00:00 - 14315\n",
      "2020-02-03 00:00:00 - 16970\n",
      "2020-02-04 00:00:00 - 19853\n",
      "2020-02-05 00:00:00 - 22966\n",
      "2020-02-06 00:00:00 - 26307\n",
      "2020-02-07 00:00:00 - 29877\n",
      "2020-02-08 00:00:00 - 33676\n",
      "2020-02-09 00:00:00 - 37704\n",
      "2020-02-10 00:00:00 - 41961\n",
      "2020-02-11 00:00:00 - 46446\n",
      "2020-02-12 00:00:00 - 51160\n",
      "2020-02-13 00:00:00 - 56103\n",
      "2020-02-14 00:00:00 - 61275\n",
      "2020-02-15 00:00:00 - 66675\n",
      "2020-02-16 00:00:00 - 72305\n",
      "2020-02-17 00:00:00 - 78163\n",
      "2020-02-18 00:00:00 - 84250\n",
      "2020-02-19 00:00:00 - 90566\n",
      "2020-02-20 00:00:00 - 97110\n",
      "2020-02-21 00:00:00 - 103884\n",
      "2020-02-22 00:00:00 - 110886\n",
      "2020-02-23 00:00:00 - 118117\n",
      "2020-02-24 00:00:00 - 125577\n",
      "2020-02-25 00:00:00 - 133265\n",
      "2020-02-26 00:00:00 - 141183\n",
      "2020-02-27 00:00:00 - 149329\n",
      "2020-02-28 00:00:00 - 157704\n",
      "2020-02-29 00:00:00 - 166308\n",
      "2020-03-01 00:00:00 - 175140\n",
      "2020-03-02 00:00:00 - 184202\n",
      "2020-03-03 00:00:00 - 193492\n",
      "2020-03-04 00:00:00 - 203011\n",
      "2020-03-05 00:00:00 - 212759\n",
      "2020-03-06 00:00:00 - 222736\n",
      "2020-03-07 00:00:00 - 232941\n",
      "2020-03-08 00:00:00 - 243375\n",
      "2020-03-09 00:00:00 - 254039\n",
      "2020-03-10 00:00:00 - 264930\n",
      "2020-03-11 00:00:00 - 276051\n",
      "2020-03-12 00:00:00 - 287401\n",
      "2020-03-13 00:00:00 - 298979\n",
      "2020-03-14 00:00:00 - 310786\n",
      "2020-03-15 00:00:00 - 322822\n",
      "2020-03-16 00:00:00 - 335087\n",
      "2020-03-17 00:00:00 - 347580\n",
      "2020-03-18 00:00:00 - 360303\n",
      "2020-03-19 00:00:00 - 373254\n",
      "2020-03-20 00:00:00 - 386434\n",
      "2020-03-21 00:00:00 - 399843\n",
      "2020-03-22 00:00:00 - 413480\n",
      "2020-03-23 00:00:00 - 427346\n",
      "2020-03-24 00:00:00 - 441442\n",
      "2020-03-25 00:00:00 - 455766\n",
      "2020-03-26 00:00:00 - 470318\n",
      "2020-03-27 00:00:00 - 485100\n",
      "2020-03-28 00:00:00 - 500110\n",
      "2020-03-29 00:00:00 - 515350\n",
      "2020-03-30 00:00:00 - 530818\n",
      "2020-03-31 00:00:00 - 546514\n"
     ]
    }
   ],
   "source": [
    "for x in range (0, predicted_days):\n",
    "    print(str(datetime.datetime(2020,2,1) + datetime.timedelta(days = x)) + \" - \" +str(int(future_forecast[x])))"
   ]
  }
 ],
 "metadata": {
  "kernelspec": {
   "display_name": "Python 3",
   "language": "python",
   "name": "python3"
  },
  "language_info": {
   "codemirror_mode": {
    "name": "ipython",
    "version": 3
   },
   "file_extension": ".py",
   "mimetype": "text/x-python",
   "name": "python",
   "nbconvert_exporter": "python",
   "pygments_lexer": "ipython3",
   "version": "3.6.9"
  }
 },
 "nbformat": 4,
 "nbformat_minor": 2
}
